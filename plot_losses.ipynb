{
 "cells": [
  {
   "cell_type": "code",
   "execution_count": null,
   "metadata": {},
   "outputs": [],
   "source": [
    "from matplotlib import pyplot as plt"
   ]
  },
  {
   "cell_type": "code",
   "execution_count": null,
   "metadata": {},
   "outputs": [],
   "source": [
    "def get_values(f, i: int):\n",
    "    lines = f.readlines()\n",
    "    return list(map(lambda x : float(x), lines[i].split(',')))"
   ]
  },
  {
   "cell_type": "code",
   "execution_count": null,
   "metadata": {},
   "outputs": [],
   "source": [
    "def plot_losses(i: int, dataset: str):\n",
    "    g_loss = None\n",
    "    d_loss = None\n",
    "    info_loss = None\n",
    "    cc_loss = None\n",
    "    cg_loss = None\n",
    "    \n",
    "    with open(f'loss/{dataset}/g_loss.csv', 'r') as f: \n",
    "        g_loss = get_values(f, i)\n",
    "        \n",
    "    with open(f'loss/{dataset}/d_loss.csv', 'r') as f: \n",
    "        d_loss = get_values(f, i)\n",
    "        \n",
    "    with open(f'loss/{dataset}/info_loss.csv', 'r') as f: \n",
    "        info_loss = get_values(f, i)\n",
    "        \n",
    "    with open(f'loss/{dataset}/cc_loss.csv', 'r') as f: \n",
    "        cc_loss = get_values(f, i)\n",
    "        \n",
    "    with open(f'loss/{dataset}/cg_loss.csv', 'r') as f: \n",
    "        cg_loss = get_values(f, i)\n",
    "        \n",
    "\n",
    "    _, (ax1, ax2, ax3, ax4, ax5) = plt.subplots(1, 5, figsize=(20,5))\n",
    "    ax1.plot(g_loss)\n",
    "    ax1.set_title(\"G loss\")\n",
    "    ax2.plot(d_loss)\n",
    "    ax2.set_title(\"D loss\")\n",
    "    ax3.plot(info_loss)\n",
    "    ax3.set_title(\"I loss\")\n",
    "    ax4.plot(cg_loss)\n",
    "    ax4.set_title(\"C fake loss\")\n",
    "    ax5.plot(cc_loss)\n",
    "    ax5.set_title(\"C real loss\")\n",
    "    plt.show()"
   ]
  },
  {
   "cell_type": "code",
   "execution_count": null,
   "metadata": {
    "scrolled": false
   },
   "outputs": [],
   "source": [
    "plot_losses(-1, \"Loan\")"
   ]
  },
  {
   "cell_type": "markdown",
   "metadata": {},
   "source": []
  },
  {
   "cell_type": "markdown",
   "metadata": {},
   "source": []
  },
  {
   "cell_type": "code",
   "execution_count": null,
   "metadata": {},
   "outputs": [],
   "source": []
  }
 ],
 "metadata": {
  "kernelspec": {
   "display_name": "Python 3.9.12 ('thesis')",
   "language": "python",
   "name": "python3"
  },
  "language_info": {
   "codemirror_mode": {
    "name": "ipython",
    "version": 3
   },
   "file_extension": ".py",
   "mimetype": "text/x-python",
   "name": "python",
   "nbconvert_exporter": "python",
   "pygments_lexer": "ipython3",
   "version": "3.9.12"
  },
  "vscode": {
   "interpreter": {
    "hash": "131feede7bb49e05e1707dfcf10e996beb732a44490e83f6dcfc2b0ccd4a2b8a"
   }
  }
 },
 "nbformat": 4,
 "nbformat_minor": 5
}
